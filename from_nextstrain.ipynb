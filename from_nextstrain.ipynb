{
 "cells": [
  {
   "cell_type": "code",
   "execution_count": 5,
   "metadata": {},
   "outputs": [],
   "source": [
    "import requests, json\n",
    "# get JSON from\n",
    "url = \"https://nextstrain.org/charon/getDataset?prefix=rsv/a/genome\"\n",
    "json_data = requests.get(url).json()\n",
    "reference = \"https://raw.githubusercontent.com/nextstrain/rsv/master/config/areference.fasta\"\n",
    "sequences = \"https://data.nextstrain.org/files/workflows/rsv/a/sequences.fasta.xz\""
   ]
  },
  {
   "cell_type": "code",
   "execution_count": 9,
   "metadata": {},
   "outputs": [],
   "source": [
    "valid_names = set()\n",
    "\n",
    "def nextstrain_to_newick(node):\n",
    "    name = node['node_attrs']['accession'] if 'accession' in node['node_attrs'] else node['name']\n",
    "    valid_names.add(name)\n",
    "    if \"children\" in node:\n",
    "        return \"(\" + \",\".join([nextstrain_to_newick(child) for child in node[\"children\"]]) + \")\" + node[\"name\"]\n",
    "    else:\n",
    "        return name\n",
    "\n",
    "newick = nextstrain_to_newick(json_data['tree'])+\";\"\n",
    "# write newick to file\n",
    "with open(\"nextstrain.nwk\", \"w\") as f:\n",
    "    f.write(newick)\n",
    "\n",
    "# stream over aligned.fa and if in valid_names, write to \"filtered.fa\"\n",
    "from Bio import SeqIO\n",
    "with open(\"filtered.fa\", \"w\") as f:\n",
    "    for record in SeqIO.parse(\"aligned.fa\", \"fasta\"):\n",
    "        if record.id in valid_names:\n",
    "            f.write(\">\"+record.id+\"\\n\"+str(record.seq)+\"\\n\")"
   ]
  },
  {
   "cell_type": "code",
   "execution_count": 16,
   "metadata": {},
   "outputs": [],
   "source": [
    "newick = nextstrain_to_newick(json_data['tree']) + \";\""
   ]
  },
  {
   "cell_type": "code",
   "execution_count": 1,
   "metadata": {},
   "outputs": [
    {
     "ename": "NameError",
     "evalue": "name 'nextstrain_to_newick' is not defined",
     "output_type": "error",
     "traceback": [
      "\u001b[0;31m---------------------------------------------------------------------------\u001b[0m",
      "\u001b[0;31mNameError\u001b[0m                                 Traceback (most recent call last)",
      "Cell \u001b[0;32mIn [1], line 1\u001b[0m\n\u001b[0;32m----> 1\u001b[0m nextstrain_to_newick\u001b[39m.\u001b[39m__source__\n",
      "\u001b[0;31mNameError\u001b[0m: name 'nextstrain_to_newick' is not defined"
     ]
    }
   ],
   "source": []
  },
  {
   "cell_type": "code",
   "execution_count": null,
   "metadata": {},
   "outputs": [],
   "source": []
  }
 ],
 "metadata": {
  "kernelspec": {
   "display_name": "Python 3",
   "language": "python",
   "name": "python3"
  },
  "language_info": {
   "codemirror_mode": {
    "name": "ipython",
    "version": 3
   },
   "file_extension": ".py",
   "mimetype": "text/x-python",
   "name": "python",
   "nbconvert_exporter": "python",
   "pygments_lexer": "ipython3",
   "version": "3.10.4"
  },
  "orig_nbformat": 4,
  "vscode": {
   "interpreter": {
    "hash": "3ad933181bd8a04b432d3370b9dc3b0662ad032c4dfaa4e4f1596c548f763858"
   }
  }
 },
 "nbformat": 4,
 "nbformat_minor": 2
}
